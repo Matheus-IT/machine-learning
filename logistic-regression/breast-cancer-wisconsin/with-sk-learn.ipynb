{
 "cells": [
  {
   "cell_type": "code",
   "execution_count": null,
   "metadata": {},
   "outputs": [
    {
     "name": "stdout",
     "output_type": "stream",
     "text": [
      "   radius1  texture1  perimeter1   area1  smoothness1  compactness1  \\\n",
      "0    17.99     10.38      122.80  1001.0      0.11840       0.27760   \n",
      "1    20.57     17.77      132.90  1326.0      0.08474       0.07864   \n",
      "2    19.69     21.25      130.00  1203.0      0.10960       0.15990   \n",
      "3    11.42     20.38       77.58   386.1      0.14250       0.28390   \n",
      "4    20.29     14.34      135.10  1297.0      0.10030       0.13280   \n",
      "\n",
      "   concavity1  concave_points1  symmetry1  fractal_dimension1  ...  texture3  \\\n",
      "0      0.3001          0.14710     0.2419             0.07871  ...     17.33   \n",
      "1      0.0869          0.07017     0.1812             0.05667  ...     23.41   \n",
      "2      0.1974          0.12790     0.2069             0.05999  ...     25.53   \n",
      "3      0.2414          0.10520     0.2597             0.09744  ...     26.50   \n",
      "4      0.1980          0.10430     0.1809             0.05883  ...     16.67   \n",
      "\n",
      "   perimeter3   area3  smoothness3  compactness3  concavity3  concave_points3  \\\n",
      "0      184.60  2019.0       0.1622        0.6656      0.7119           0.2654   \n",
      "1      158.80  1956.0       0.1238        0.1866      0.2416           0.1860   \n",
      "2      152.50  1709.0       0.1444        0.4245      0.4504           0.2430   \n",
      "3       98.87   567.7       0.2098        0.8663      0.6869           0.2575   \n",
      "4      152.20  1575.0       0.1374        0.2050      0.4000           0.1625   \n",
      "\n",
      "   symmetry3  fractal_dimension3  Diagnosis  \n",
      "0     0.4601             0.11890          1  \n",
      "1     0.2750             0.08902          1  \n",
      "2     0.3613             0.08758          1  \n",
      "3     0.6638             0.17300          1  \n",
      "4     0.2364             0.07678          1  \n",
      "\n",
      "[5 rows x 31 columns]\n"
     ]
    }
   ],
   "source": [
    "from sklearn.linear_model import SGDRegressor\n",
    "from sklearn.metrics import mean_absolute_error\n",
    "from sklearn.preprocessing import StandardScaler\n",
    "from sklearn.model_selection import train_test_split\n",
    "import math\n",
    "import copy\n",
    "import pandas as pd\n",
    "from ucimlrepo import fetch_ucirepo \n",
    "\n",
    "# Fetch dataset\n",
    "breast_cancer_wisconsin_diagnostic = fetch_ucirepo(id=17)\n",
    "\n",
    "# Data (as pandas dataframes)\n",
    "X = breast_cancer_wisconsin_diagnostic.data.features \n",
    "y = breast_cancer_wisconsin_diagnostic.data.targets \n",
    "\n",
    "# Explicitly create a copy of y to avoid SettingWithCopyWarning\n",
    "y = y.copy()\n",
    "\n",
    "# Convert Diagnosis to binary 0 or 1\n",
    "y['Diagnosis'] = y['Diagnosis'].map({'M': 1, 'B': 0})\n",
    "\n",
    "# Combine features and targets into a single DataFrame\n",
    "df = pd.concat([X, y], axis=1)\n",
    "\n",
    "print(df.head())"
   ]
  },
  {
   "cell_type": "code",
   "execution_count": null,
   "metadata": {},
   "outputs": [],
   "source": [
    "print(df.shape)\n",
    "df.isnull().sum()"
   ]
  },
  {
   "cell_type": "code",
   "execution_count": null,
   "metadata": {},
   "outputs": [],
   "source": [
    "target_column = 'Diagnosis'\n",
    "\n",
    "X = df.drop(columns=[target_column])\n",
    "y = df[target_column]\n",
    "\n",
    "\n",
    "x_train, x_test, y_train, y_test = train_test_split(X, y, test_size=0.2, random_state=42)\n",
    "train_data = pd.concat([x_train, y_train], axis=1)"
   ]
  },
  {
   "cell_type": "code",
   "execution_count": null,
   "metadata": {},
   "outputs": [],
   "source": [
    "train_data.head()\n",
    "# Diagnosis (M = malignant, B = benign)\n",
    "train_data.corr(numeric_only=True)[target_column].sort_values(ascending=False)"
   ]
  }
 ],
 "metadata": {
  "kernelspec": {
   "display_name": ".venv",
   "language": "python",
   "name": "python3"
  },
  "language_info": {
   "codemirror_mode": {
    "name": "ipython",
    "version": 3
   },
   "file_extension": ".py",
   "mimetype": "text/x-python",
   "name": "python",
   "nbconvert_exporter": "python",
   "pygments_lexer": "ipython3",
   "version": "3.9.21"
  }
 },
 "nbformat": 4,
 "nbformat_minor": 2
}
